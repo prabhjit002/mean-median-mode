{
  "nbformat": 4,
  "nbformat_minor": 0,
  "metadata": {
    "colab": {
      "provenance": [],
      "authorship_tag": "ABX9TyOs/vsxKt7RWffnzMH/602Y",
      "include_colab_link": true
    },
    "kernelspec": {
      "name": "python3",
      "display_name": "Python 3"
    },
    "language_info": {
      "name": "python"
    }
  },
  "cells": [
    {
      "cell_type": "markdown",
      "metadata": {
        "id": "view-in-github",
        "colab_type": "text"
      },
      "source": [
        "<a href=\"https://colab.research.google.com/github/prabhjit002/mean-median-mode/blob/main/statistics.ipynb\" target=\"_parent\"><img src=\"https://colab.research.google.com/assets/colab-badge.svg\" alt=\"Open In Colab\"/></a>"
      ]
    },
    {
      "cell_type": "markdown",
      "source": [
        "1. Briefly describe the mean, median, and mode using Markdown.\n"
      ],
      "metadata": {
        "id": "mWScGfY-x5ds"
      }
    },
    {
      "cell_type": "code",
      "source": [
        "import statistics\n",
        "\n",
        "# Sample data\n",
        "data = [1, 5, 12, 10, 19, 28, 12, 18, 16]\n",
        "\n",
        "# Calculate mean, median, and mode\n",
        "mean = statistics.mean(data)\n",
        "median = statistics.median(data)\n",
        "mode = statistics.mode(data)\n",
        "\n",
        "# Display the results\n",
        "print(f\"Mean: {mean}\")\n",
        "print(f\"Median: {median}\")\n",
        "print(f\"Mode: {mode}\")"
      ],
      "metadata": {
        "colab": {
          "base_uri": "https://localhost:8080/"
        },
        "id": "waiYt3w4x7l7",
        "outputId": "7bfd5f80-885b-4f5d-a0d3-ba307b0650f3"
      },
      "execution_count": null,
      "outputs": [
        {
          "output_type": "stream",
          "name": "stdout",
          "text": [
            "Mean: 13.444444444444445\n",
            "Median: 12\n",
            "Mode: 12\n"
          ]
        }
      ]
    },
    {
      "cell_type": "markdown",
      "source": [
        "sing libraries, like, Numpy, pandas, maths and statistics etc."
      ],
      "metadata": {
        "id": "KNDfJGMXyK0D"
      }
    },
    {
      "cell_type": "markdown",
      "source": [
        "for mean"
      ],
      "metadata": {
        "id": "9_gGezgqyfcB"
      }
    },
    {
      "cell_type": "code",
      "source": [
        "import numpy as np\n",
        "\n",
        "# Example data\n",
        "data = [10, 20, 30, 40, 50]\n",
        "\n",
        "# Calculate mean using NumPy\n",
        "mean = np.mean(data)\n",
        "print(f\"Mean: {mean}\")\n"
      ],
      "metadata": {
        "colab": {
          "base_uri": "https://localhost:8080/"
        },
        "id": "XveR6SR4yg14",
        "outputId": "d9f69db2-1ecc-41da-80b6-df74afcc246a"
      },
      "execution_count": null,
      "outputs": [
        {
          "output_type": "stream",
          "name": "stdout",
          "text": [
            "Mean: 30.0\n"
          ]
        }
      ]
    },
    {
      "cell_type": "markdown",
      "source": [
        "median"
      ],
      "metadata": {
        "id": "jdhvtw5kylP6"
      }
    },
    {
      "cell_type": "code",
      "source": [
        "import numpy as np\n",
        "\n",
        "# Example data\n",
        "data = [10, 20, 30, 40, 50]\n",
        "\n",
        "# Calculate median using NumPy\n",
        "median = np.median(data)\n",
        "print(f\"Median: {median}\")\n"
      ],
      "metadata": {
        "colab": {
          "base_uri": "https://localhost:8080/"
        },
        "id": "IYx3o5kPymLy",
        "outputId": "47a4e957-40bc-453f-a883-55669cd4e236"
      },
      "execution_count": null,
      "outputs": [
        {
          "output_type": "stream",
          "name": "stdout",
          "text": [
            "Median: 30.0\n"
          ]
        }
      ]
    },
    {
      "cell_type": "markdown",
      "source": [
        "mode"
      ],
      "metadata": {
        "id": "S1eMn3cWyrsz"
      }
    },
    {
      "cell_type": "code",
      "source": [
        "import pandas as pd\n",
        "\n",
        "# Example data\n",
        "data = [10, 20, 30, 30, 40, 50]\n",
        "\n",
        "# Convert data to a pandas Series\n",
        "series = pd.Series(data)\n",
        "\n",
        "# Calculate mean, median, and mode using pandas\n",
        "mean = series.mean()\n",
        "median = series.median()\n",
        "mode = series.mode()[0]  # Mode returns a Series, so we take the first mode\n",
        "\n",
        "print(f\"Mean: {mean}, Median: {median}, Mode: {mode}\")\n"
      ],
      "metadata": {
        "id": "4vk1l8GOysiS",
        "outputId": "b4ab88b7-47a1-4b43-9acc-da6d0baf7032",
        "colab": {
          "base_uri": "https://localhost:8080/"
        }
      },
      "execution_count": null,
      "outputs": [
        {
          "output_type": "stream",
          "name": "stdout",
          "text": [
            "Mean: 30.0, Median: 30.0, Mode: 30\n"
          ]
        }
      ]
    }
  ]
}